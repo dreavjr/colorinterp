{
 "cells": [
  {
   "cell_type": "markdown",
   "metadata": {
    "deletable": true,
    "editable": true
   },
   "source": [
    "# Perceptually Uniform Color Interpolation\n",
    "\n",
    "This was a small for fun experiment done on a lazy Saturday. Check the original at https://github.com/dreavjr/colorinterp. \n",
    "\n",
    "(c̸) 2017 Eduardo Valle. This software is in Public Domain; it is provided \"as is\" without any warranties. Please check https://github.com/dreavjr/colorinterp/blob/master/LICENSE.md \n",
    "\n",
    "## Imports and initializations"
   ]
  },
  {
   "cell_type": "code",
   "execution_count": 19,
   "metadata": {
    "collapsed": false,
    "deletable": true,
    "editable": true
   },
   "outputs": [
    {
     "data": {
      "text/html": [
       "<div style=\"background-color:rgb(228,26,28);height:20px;width:20px;display:inline-block;\"></div><div style=\"background-color:rgb(55,126,184);height:20px;width:20px;display:inline-block;\"></div><div style=\"background-color:rgb(77,175,74);height:20px;width:20px;display:inline-block;\"></div><div style=\"background-color:rgb(152,78,163);height:20px;width:20px;display:inline-block;\"></div>"
      ],
      "text/plain": [
       "<IPython.core.display.HTML object>"
      ]
     },
     "execution_count": 19,
     "metadata": {},
     "output_type": "execute_result"
    }
   ],
   "source": [
    "import re\n",
    "\n",
    "import colorlover as cl\n",
    "from IPython.display import HTML\n",
    "import numpy as np\n",
    "\n",
    "num_original = 4\n",
    "num_interpolated = 19\n",
    "colors = cl.scales[str(num_original).strip()]['qual']['Set1']\n",
    "HTML(cl.to_html( colors ))"
   ]
  },
  {
   "cell_type": "markdown",
   "metadata": {
    "deletable": true,
    "editable": true
   },
   "source": [
    "## Parsing"
   ]
  },
  {
   "cell_type": "code",
   "execution_count": 20,
   "metadata": {
    "collapsed": false,
    "deletable": true,
    "editable": true
   },
   "outputs": [
    {
     "data": {
      "text/plain": [
       "array([[ 228.,   26.,   28.],\n",
       "       [  55.,  126.,  184.],\n",
       "       [  77.,  175.,   74.],\n",
       "       [ 152.,   78.,  163.]])"
      ]
     },
     "execution_count": 20,
     "metadata": {},
     "output_type": "execute_result"
    }
   ],
   "source": [
    "colors_list = [ re.search('rgb\\(([0-9]+),([0-9]+),([0-9]+)\\)', c).groups() for c in colors ]\n",
    "colors_array = np.asarray([ [ float(p) for p in c ] for c in colors_list ])\n",
    "# DEBUG : forces sRGB correspondence on my hardware\n",
    "# colors = np.asarray([ [172, 205, 229], [59, 117, 184], [181, 225, 128] ], dtype='float') \n",
    "colors_array\n"
   ]
  },
  {
   "cell_type": "markdown",
   "metadata": {
    "deletable": true,
    "editable": true
   },
   "source": [
    "## Conversion from RGB (assumed sRGB) to XYZ\n",
    "[The formulas copied from Wikipedia article on sRGB.](https://en.wikipedia.org/wiki/SRGB#The_reverse_transformation)"
   ]
  },
  {
   "cell_type": "code",
   "execution_count": 21,
   "metadata": {
    "collapsed": false,
    "deletable": true,
    "editable": true
   },
   "outputs": [
    {
     "data": {
      "text/plain": [
       "array([[ 0.32573904,  0.1731661 ,  0.02724212],\n",
       "       [ 0.17688132,  0.19194626,  0.48120069],\n",
       "       [ 0.19626571,  0.32732137,  0.11762073],\n",
       "       [ 0.22284143,  0.14768522,  0.36326437]])"
      ]
     },
     "execution_count": 21,
     "metadata": {},
     "output_type": "execute_result"
    }
   ],
   "source": [
    "Scale = 255.0\n",
    "srgb = colors_array/Scale\n",
    "srgb_thres=0.04045\n",
    "srgb_linear = np.empty(srgb.shape)\n",
    "srgb_linear[srgb<=srgb_thres] = (srgb/12.92)[srgb<=srgb_thres]\n",
    "srgb_linear[srgb>srgb_thres] = np.power(((srgb+0.055)/1.055),2.4)[srgb>srgb_thres]\n",
    "srgb2xyz = np.asarray([ [ 0.4124, 0.3576, 0.1805 ],\n",
    "                        [ 0.2126, 0.7152, 0.0722 ],\n",
    "                        [ 0.0193, 0.1192, 0.9505 ] ])\n",
    "# xyz = srgb2xyz.dot(srgb_linear[i])\n",
    "xyz = srgb_linear.dot(srgb2xyz.T)\n",
    "xyz"
   ]
  },
  {
   "cell_type": "markdown",
   "metadata": {
    "deletable": true,
    "editable": true
   },
   "source": [
    "## Conversion from XYZ to L\\*a\\*b\\*\n",
    "The formulas copied from [Wikipedia article on L\\*a\\*b\\*](https://en.wikipedia.org/wiki/Lab_color_space#Forward_transformation) and [Bruce Lind Bloom's page](http://www.brucelindbloom.com/Math.html) on color conversion."
   ]
  },
  {
   "cell_type": "code",
   "execution_count": 22,
   "metadata": {
    "collapsed": false,
    "deletable": true,
    "editable": true
   },
   "outputs": [
    {
     "data": {
      "text/plain": [
       "array([[ 48.65651299,  71.21070676,  52.98109021],\n",
       "       [ 50.91413545,  -2.95910047, -36.97247291],\n",
       "       [ 63.94342979, -49.05118575,  42.58212343],\n",
       "       [ 45.31550883,  44.02012702, -32.9967354 ]])"
      ]
     },
     "execution_count": 22,
     "metadata": {},
     "output_type": "execute_result"
    }
   ],
   "source": [
    "Lab_thresh = 216.0/24389.0\n",
    "Lab_kappa  = 24389.0/27.0\n",
    "def xyz2lab(t):\n",
    "    t2 = np.empty(t.shape)\n",
    "    cond = t<=Lab_thresh\n",
    "    t2[cond] = (Lab_kappa*t+16.0)[cond]\n",
    "    t2[np.logical_not(cond)] = np.power(t,(1.0/3.0))[np.logical_not(cond)]\n",
    "    return t2\n",
    "\n",
    "WhiteD65 = np.asarray([ 0.95047, 1.00000, 1.08883 ])\n",
    "xyz_ratio = xyz/WhiteD65\n",
    "\n",
    "pre_lab = xyz2lab(xyz_ratio)\n",
    "ell = 116.0*pre_lab[:,1] - 16.0\n",
    "a   = 500.0*(pre_lab[:,0]-pre_lab[:,1])\n",
    "b   = 200.0*(pre_lab[:,1]-pre_lab[:,2])\n",
    "lab = np.asarray([ell, a, b]).T\n",
    "lab"
   ]
  },
  {
   "cell_type": "markdown",
   "metadata": {
    "deletable": true,
    "editable": true
   },
   "source": [
    "# Interpolate colors in the perceptually uniform L\\*a\\*b\\* space"
   ]
  },
  {
   "cell_type": "code",
   "execution_count": 23,
   "metadata": {
    "collapsed": false,
    "deletable": true,
    "editable": true
   },
   "outputs": [
    {
     "data": {
      "text/plain": [
       "array([[ 48.65651299,  71.21070676,  52.98109021],\n",
       "       [ 49.0327834 ,  58.84907222,  37.98882969],\n",
       "       [ 49.40905381,  46.48743768,  22.99656917],\n",
       "       [ 49.78532422,  34.12580314,   8.00430865],\n",
       "       [ 50.16159463,  21.76416861,  -6.98795187],\n",
       "       [ 50.53786504,   9.40253407, -21.98021239],\n",
       "       [ 50.91413545,  -2.95910047, -36.97247291],\n",
       "       [ 53.08568451, -10.64111468, -23.71337352],\n",
       "       [ 55.25723356, -18.3231289 , -10.45427413],\n",
       "       [ 57.42878262, -26.00514311,   2.80482526],\n",
       "       [ 59.60033168, -33.68715732,  16.06392465],\n",
       "       [ 61.77188073, -41.36917154,  29.32302404],\n",
       "       [ 63.94342979, -49.05118575,  42.58212343],\n",
       "       [ 60.83877629, -33.53930029,  29.98564696],\n",
       "       [ 57.7341228 , -18.02741483,  17.38917049],\n",
       "       [ 54.62946931,  -2.51552937,   4.79269401],\n",
       "       [ 51.52481582,  12.99635609,  -7.80378246],\n",
       "       [ 48.42016232,  28.50824156, -20.40025893],\n",
       "       [ 45.31550883,  44.02012702, -32.9967354 ]])"
      ]
     },
     "execution_count": 23,
     "metadata": {},
     "output_type": "execute_result"
    }
   ],
   "source": [
    "originals = np.arange(ell.shape[0])\n",
    "interpolated = np.linspace(originals[0], originals[-1], num=num_interpolated)\n",
    "ell_interp = np.interp(interpolated, originals, ell) \n",
    "a_interp = np.interp(interpolated, originals, a) \n",
    "b_interp = np.interp(interpolated, originals, b) \n",
    "\n",
    "# DEBUG: disables interpolation\n",
    "# ell_interp = ell\n",
    "# a_interp = a\n",
    "# b_interp = b\n",
    "\n",
    "# Demonstration: also interpolates in the rgb space ---\n",
    "rgb = colors_array.T\n",
    "red_interp   = np.interp(interpolated, originals, rgb[0]) \n",
    "green_interp = np.interp(interpolated, originals, rgb[1])\n",
    "blue_interp  = np.interp(interpolated, originals, rgb[2])\n",
    "rgb_interp = np.asarray([red_interp, green_interp, blue_interp]).T\n",
    "# --- this is not needed for the perceptual interpolation, only for comparison\n",
    "\n",
    "np.asarray([ell_interp, a_interp, b_interp]).T\n"
   ]
  },
  {
   "cell_type": "markdown",
   "metadata": {
    "deletable": true,
    "editable": true
   },
   "source": [
    "## Conversion from L\\*a\\*b\\* to XYZ\n",
    "[The formulas copied from Wikipedia article on L\\*a\\*b\\*.](https://en.wikipedia.org/wiki/Lab_color_space#Reverse_transformation) and [Bruce Lind Bloom's page](http://www.brucelindbloom.com/Math.html) on color conversion."
   ]
  },
  {
   "cell_type": "code",
   "execution_count": 24,
   "metadata": {
    "collapsed": false,
    "deletable": true,
    "editable": true
   },
   "outputs": [
    {
     "data": {
      "text/plain": [
       "array([[ 0.32573904,  0.1731661 ,  0.02724212],\n",
       "       [ 0.29665592,  0.17620696,  0.05545863],\n",
       "       [ 0.26935755,  0.17928322,  0.0984861 ],\n",
       "       [ 0.24378742,  0.18239507,  0.1594493 ],\n",
       "       [ 0.21988902,  0.18554272,  0.24147296],\n",
       "       [ 0.19760582,  0.18872638,  0.34768185],\n",
       "       [ 0.17688132,  0.19194626,  0.48120069],\n",
       "       [ 0.18001911,  0.21124684,  0.39654967],\n",
       "       [ 0.18319378,  0.23179972,  0.32245837],\n",
       "       [ 0.18640556,  0.25364425,  0.25822331],\n",
       "       [ 0.18965467,  0.27681979,  0.20314101],\n",
       "       [ 0.19294131,  0.30136571,  0.15650797],\n",
       "       [ 0.19626571,  0.32732137,  0.11762073],\n",
       "       [ 0.20053953,  0.29064801,  0.14654741],\n",
       "       [ 0.20487495,  0.25682162,  0.17986583],\n",
       "       [ 0.20927241,  0.22572718,  0.21788636],\n",
       "       [ 0.21373235,  0.19724966,  0.26091937],\n",
       "       [ 0.21825521,  0.17127401,  0.30927525],\n",
       "       [ 0.22284143,  0.14768522,  0.36326437]])"
      ]
     },
     "execution_count": 24,
     "metadata": {},
     "output_type": "execute_result"
    }
   ],
   "source": [
    "def lab2xyz(t):\n",
    "    t2 = np.empty(t.shape)\n",
    "    cond =t<=Lab_thresh\n",
    "    t2[cond] = ((t-16.0)/Lab_kappa)[cond]\n",
    "    t2[np.logical_not(cond)]  = np.power(t,3.0)[np.logical_not(cond)]\n",
    "    return t2\n",
    "\n",
    "ell_interp_scaled = (ell_interp+16.0)/116.0\n",
    "a_interp_scaled = a_interp/500.0\n",
    "b_interp_scaled = b_interp/200.0\n",
    "pre_x_interp = lab2xyz(ell_interp_scaled+a_interp_scaled)\n",
    "pre_y_interp = lab2xyz(ell_interp_scaled)\n",
    "pre_z_interp = lab2xyz(ell_interp_scaled-b_interp_scaled)\n",
    "pre_xyz_interp = np.asarray([pre_x_interp, pre_y_interp, pre_z_interp]).T\n",
    "xyz_interp = pre_xyz_interp*WhiteD65\n",
    "xyz_interp #, xyz\n"
   ]
  },
  {
   "cell_type": "markdown",
   "metadata": {
    "deletable": true,
    "editable": true
   },
   "source": [
    "## Conversion from XYZ to RGB (assumed sRGB)\n",
    "[The formulas copied from Wikipedia article on sRGB.](https://en.wikipedia.org/wiki/SRGB#The_forward_transformation_.28CIE_XYZ_to_sRGB.29)"
   ]
  },
  {
   "cell_type": "code",
   "execution_count": 25,
   "metadata": {
    "collapsed": false,
    "deletable": true,
    "editable": true
   },
   "outputs": [
    {
     "data": {
      "text/plain": [
       "array([[ 228.,   26.,   28.],\n",
       "       [ 213.,   60.,   56.],\n",
       "       [ 195.,   80.,   81.],\n",
       "       [ 175.,   94.,  106.],\n",
       "       [ 150.,  106.,  132.],\n",
       "       [ 117.,  117.,  158.],\n",
       "       [  55.,  126.,  184.],\n",
       "       [  70.,  134.,  167.],\n",
       "       [  78.,  142.,  150.],\n",
       "       [  82.,  150.,  132.],\n",
       "       [  84.,  158.,  114.],\n",
       "       [  82.,  167.,   95.],\n",
       "       [  77.,  175.,   74.],\n",
       "       [ 101.,  161.,   92.],\n",
       "       [ 117.,  147.,  108.],\n",
       "       [ 130.,  132.,  122.],\n",
       "       [ 139.,  116.,  136.],\n",
       "       [ 147.,   98.,  150.],\n",
       "       [ 152.,   78.,  163.]])"
      ]
     },
     "execution_count": 25,
     "metadata": {},
     "output_type": "execute_result"
    }
   ],
   "source": [
    "xyz2srgb = np.asarray([ [  3.2406, -1.5372, -0.4986 ],\n",
    "                        [ -0.9689,  1.8758,  0.0415 ],\n",
    "                        [  0.0557, -0.2040,  1.0570 ] ])\n",
    "# srgb_linear_interp = xyz2srgb.dot(xyz_interp[i])\n",
    "srgb_linear_interp = xyz_interp.dot(xyz2srgb.T)\n",
    "srgb_interp = np.empty(srgb_linear_interp.shape)\n",
    "\n",
    "srgb_interp[srgb_linear_interp<=0.0031308] = (12.92*srgb_linear_interp)[srgb_linear_interp<=0.0031308]\n",
    "srgb_interp[srgb_linear_interp>0.0031308] = ((1.055)*np.power(srgb_linear_interp,(1.0/2.4)) - 0.055)[srgb_linear_interp>0.0031308]\n",
    "srgb_interp[srgb_interp<0.0] = 0.0\n",
    "srgb_interp[srgb_interp>1.0] = 1.0\n",
    "srgb_device_interp = np.round(srgb_interp*Scale)\n",
    "# print(srgb_linear_interp, srgb_interp, srgb_device_interp, colors, sep='\\n\\n')\n",
    "srgb_device_interp"
   ]
  },
  {
   "cell_type": "markdown",
   "metadata": {
    "deletable": true,
    "editable": true
   },
   "source": [
    "## Formatting the output"
   ]
  },
  {
   "cell_type": "code",
   "execution_count": 26,
   "metadata": {
    "collapsed": false,
    "deletable": true,
    "editable": true
   },
   "outputs": [
    {
     "name": "stdout",
     "output_type": "stream",
     "text": [
      "['rgb(228,26,28)', 'rgb(55,126,184)', 'rgb(77,175,74)', 'rgb(152,78,163)']\n"
     ]
    },
    {
     "data": {
      "text/html": [
       "<div style=\"background-color:rgb(228,26,28);height:20px;width:20px;display:inline-block;\"></div><div style=\"background-color:rgb(55,126,184);height:20px;width:20px;display:inline-block;\"></div><div style=\"background-color:rgb(77,175,74);height:20px;width:20px;display:inline-block;\"></div><div style=\"background-color:rgb(152,78,163);height:20px;width:20px;display:inline-block;\"></div>"
      ],
      "text/plain": [
       "<IPython.core.display.HTML object>"
      ]
     },
     "execution_count": 26,
     "metadata": {},
     "output_type": "execute_result"
    }
   ],
   "source": [
    "# This --- finally --- is the desired output\n",
    "colors_interpolated = [ 'rgb(%d,%d,%d)' % tuple(c) for c in srgb_device_interp ]\n",
    "after_hsl_and_back = cl.to_rgb(cl.to_hsl(colors_interpolated))\n",
    "rgb_interpolated = [ 'rgb(%d,%d,%d)' % tuple(c) for c in rgb_interp ]\n",
    "\n",
    "print(colors)\n",
    "HTML(cl.to_html( colors ))"
   ]
  },
  {
   "cell_type": "code",
   "execution_count": 27,
   "metadata": {
    "collapsed": false,
    "deletable": true,
    "editable": true
   },
   "outputs": [
    {
     "name": "stdout",
     "output_type": "stream",
     "text": [
      "['rgb(228,26,28)', 'rgb(213,60,56)', 'rgb(195,80,81)', 'rgb(175,94,106)', 'rgb(150,106,132)', 'rgb(117,117,158)', 'rgb(55,126,184)', 'rgb(70,134,167)', 'rgb(78,142,150)', 'rgb(82,150,132)', 'rgb(84,158,114)', 'rgb(82,167,95)', 'rgb(77,175,74)', 'rgb(101,161,92)', 'rgb(117,147,108)', 'rgb(130,132,122)', 'rgb(139,116,136)', 'rgb(147,98,150)', 'rgb(152,78,163)']\n",
      "['rgb(230, 25, 29)', 'rgb(213, 62, 57)', 'rgb(195, 80, 82)', 'rgb(176, 94, 107)', 'rgb(149, 106, 131)', 'rgb(118, 118, 158)', 'rgb(55, 126, 185)', 'rgb(69, 133, 165)', 'rgb(78, 143, 151)', 'rgb(81, 148, 130)', 'rgb(83, 157, 112)', 'rgb(82, 167, 95)', 'rgb(77, 176, 74)', 'rgb(102, 162, 93)', 'rgb(117, 147, 108)', 'rgb(131, 133, 122)', 'rgb(139, 116, 136)', 'rgb(149, 99, 151)', 'rgb(151, 78, 162)']\n",
      "['rgb(228,26,28)', 'rgb(199,42,54)', 'rgb(170,59,80)', 'rgb(141,76,106)', 'rgb(112,92,132)', 'rgb(83,109,158)', 'rgb(55,126,184)', 'rgb(58,134,165)', 'rgb(62,142,147)', 'rgb(66,150,129)', 'rgb(69,158,110)', 'rgb(73,166,92)', 'rgb(77,175,74)', 'rgb(89,158,88)', 'rgb(101,142,103)', 'rgb(114,126,118)', 'rgb(126,110,133)', 'rgb(139,94,148)', 'rgb(152,78,163)']\n"
     ]
    },
    {
     "data": {
      "text/html": [
       "<div><div style=\"height:20px;width:110px;display:inline-block;\">Int. on L*a*b*:</div><div style=\"background-color:rgb(228,26,28);height:20px;width:20px;display:inline-block;\"></div><div style=\"background-color:rgb(213,60,56);height:20px;width:20px;display:inline-block;\"></div><div style=\"background-color:rgb(195,80,81);height:20px;width:20px;display:inline-block;\"></div><div style=\"background-color:rgb(175,94,106);height:20px;width:20px;display:inline-block;\"></div><div style=\"background-color:rgb(150,106,132);height:20px;width:20px;display:inline-block;\"></div><div style=\"background-color:rgb(117,117,158);height:20px;width:20px;display:inline-block;\"></div><div style=\"background-color:rgb(55,126,184);height:20px;width:20px;display:inline-block;\"></div><div style=\"background-color:rgb(70,134,167);height:20px;width:20px;display:inline-block;\"></div><div style=\"background-color:rgb(78,142,150);height:20px;width:20px;display:inline-block;\"></div><div style=\"background-color:rgb(82,150,132);height:20px;width:20px;display:inline-block;\"></div><div style=\"background-color:rgb(84,158,114);height:20px;width:20px;display:inline-block;\"></div><div style=\"background-color:rgb(82,167,95);height:20px;width:20px;display:inline-block;\"></div><div style=\"background-color:rgb(77,175,74);height:20px;width:20px;display:inline-block;\"></div><div style=\"background-color:rgb(101,161,92);height:20px;width:20px;display:inline-block;\"></div><div style=\"background-color:rgb(117,147,108);height:20px;width:20px;display:inline-block;\"></div><div style=\"background-color:rgb(130,132,122);height:20px;width:20px;display:inline-block;\"></div><div style=\"background-color:rgb(139,116,136);height:20px;width:20px;display:inline-block;\"></div><div style=\"background-color:rgb(147,98,150);height:20px;width:20px;display:inline-block;\"></div><div style=\"background-color:rgb(152,78,163);height:20px;width:20px;display:inline-block;\"></div><br/><div style=\"height:20px;width:110px;display:inline-block;\">HSL and back:</div><div style=\"background-color:rgb(230, 25, 29);height:20px;width:20px;display:inline-block;\"></div><div style=\"background-color:rgb(213, 62, 57);height:20px;width:20px;display:inline-block;\"></div><div style=\"background-color:rgb(195, 80, 82);height:20px;width:20px;display:inline-block;\"></div><div style=\"background-color:rgb(176, 94, 107);height:20px;width:20px;display:inline-block;\"></div><div style=\"background-color:rgb(149, 106, 131);height:20px;width:20px;display:inline-block;\"></div><div style=\"background-color:rgb(118, 118, 158);height:20px;width:20px;display:inline-block;\"></div><div style=\"background-color:rgb(55, 126, 185);height:20px;width:20px;display:inline-block;\"></div><div style=\"background-color:rgb(69, 133, 165);height:20px;width:20px;display:inline-block;\"></div><div style=\"background-color:rgb(78, 143, 151);height:20px;width:20px;display:inline-block;\"></div><div style=\"background-color:rgb(81, 148, 130);height:20px;width:20px;display:inline-block;\"></div><div style=\"background-color:rgb(83, 157, 112);height:20px;width:20px;display:inline-block;\"></div><div style=\"background-color:rgb(82, 167, 95);height:20px;width:20px;display:inline-block;\"></div><div style=\"background-color:rgb(77, 176, 74);height:20px;width:20px;display:inline-block;\"></div><div style=\"background-color:rgb(102, 162, 93);height:20px;width:20px;display:inline-block;\"></div><div style=\"background-color:rgb(117, 147, 108);height:20px;width:20px;display:inline-block;\"></div><div style=\"background-color:rgb(131, 133, 122);height:20px;width:20px;display:inline-block;\"></div><div style=\"background-color:rgb(139, 116, 136);height:20px;width:20px;display:inline-block;\"></div><div style=\"background-color:rgb(149, 99, 151);height:20px;width:20px;display:inline-block;\"></div><div style=\"background-color:rgb(151, 78, 162);height:20px;width:20px;display:inline-block;\"></div><br/><div style=\"height:20px;width:110px;display:inline-block;\">Int. on RGB:</div><div style=\"background-color:rgb(228,26,28);height:20px;width:20px;display:inline-block;\"></div><div style=\"background-color:rgb(199,42,54);height:20px;width:20px;display:inline-block;\"></div><div style=\"background-color:rgb(170,59,80);height:20px;width:20px;display:inline-block;\"></div><div style=\"background-color:rgb(141,76,106);height:20px;width:20px;display:inline-block;\"></div><div style=\"background-color:rgb(112,92,132);height:20px;width:20px;display:inline-block;\"></div><div style=\"background-color:rgb(83,109,158);height:20px;width:20px;display:inline-block;\"></div><div style=\"background-color:rgb(55,126,184);height:20px;width:20px;display:inline-block;\"></div><div style=\"background-color:rgb(58,134,165);height:20px;width:20px;display:inline-block;\"></div><div style=\"background-color:rgb(62,142,147);height:20px;width:20px;display:inline-block;\"></div><div style=\"background-color:rgb(66,150,129);height:20px;width:20px;display:inline-block;\"></div><div style=\"background-color:rgb(69,158,110);height:20px;width:20px;display:inline-block;\"></div><div style=\"background-color:rgb(73,166,92);height:20px;width:20px;display:inline-block;\"></div><div style=\"background-color:rgb(77,175,74);height:20px;width:20px;display:inline-block;\"></div><div style=\"background-color:rgb(89,158,88);height:20px;width:20px;display:inline-block;\"></div><div style=\"background-color:rgb(101,142,103);height:20px;width:20px;display:inline-block;\"></div><div style=\"background-color:rgb(114,126,118);height:20px;width:20px;display:inline-block;\"></div><div style=\"background-color:rgb(126,110,133);height:20px;width:20px;display:inline-block;\"></div><div style=\"background-color:rgb(139,94,148);height:20px;width:20px;display:inline-block;\"></div><div style=\"background-color:rgb(152,78,163);height:20px;width:20px;display:inline-block;\"></div>"
      ],
      "text/plain": [
       "<IPython.core.display.HTML object>"
      ]
     },
     "execution_count": 27,
     "metadata": {},
     "output_type": "execute_result"
    }
   ],
   "source": [
    "print(colors_interpolated)\n",
    "print(after_hsl_and_back)\n",
    "print(rgb_interpolated)\n",
    "HTML(cl.to_html(after_hsl_and_back))\n",
    "HTML('<div>'+\n",
    "     '<div style=\"height:20px;width:110px;display:inline-block;\">Int. on L*a*b*:</div>'+\n",
    "     cl.to_html( colors_interpolated )+'<br/>'+\n",
    "     '<div style=\"height:20px;width:110px;display:inline-block;\">HSL and back:</div>'+\n",
    "     cl.to_html( after_hsl_and_back )+'<br/>'+\n",
    "     '<div style=\"height:20px;width:110px;display:inline-block;\">Int. on RGB:</div>'+\n",
    "     cl.to_html( rgb_interpolated ))"
   ]
  }
 ],
 "metadata": {
  "kernelspec": {
   "display_name": "Python 3",
   "language": "python",
   "name": "python3"
  },
  "language_info": {
   "codemirror_mode": {
    "name": "ipython",
    "version": 3
   },
   "file_extension": ".py",
   "mimetype": "text/x-python",
   "name": "python",
   "nbconvert_exporter": "python",
   "pygments_lexer": "ipython3",
   "version": "3.6.1"
  }
 },
 "nbformat": 4,
 "nbformat_minor": 2
}
