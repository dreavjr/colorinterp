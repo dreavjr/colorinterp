{
 "cells": [
  {
   "cell_type": "markdown",
   "metadata": {
    "deletable": true,
    "editable": true
   },
   "source": [
    "# Perceptually Uniform Color Interpolation\n",
    "\n",
    "This was a small for fun experiment done on a lazy Saturday. Check the original at https://github.com/dreavjr/colorinterp. \n",
    "\n",
    "(c̸) 2017 Eduardo Valle. This software is in Public Domain; it is provided \"as is\" without any warranties. Please check https://github.com/dreavjr/colorinterp/blob/master/LICENSE.md \n",
    "\n",
    "## Imports and initializations"
   ]
  },
  {
   "cell_type": "code",
   "execution_count": 1,
   "metadata": {
    "collapsed": false,
    "deletable": true,
    "editable": true
   },
   "outputs": [
    {
     "data": {
      "text/html": [
       "<div style=\"background-color:rgb(228,26,28);height:20px;width:20px;display:inline-block;\"></div><div style=\"background-color:rgb(55,126,184);height:20px;width:20px;display:inline-block;\"></div><div style=\"background-color:rgb(77,175,74);height:20px;width:20px;display:inline-block;\"></div><div style=\"background-color:rgb(152,78,163);height:20px;width:20px;display:inline-block;\"></div>"
      ],
      "text/plain": [
       "<IPython.core.display.HTML object>"
      ]
     },
     "execution_count": 1,
     "metadata": {},
     "output_type": "execute_result"
    }
   ],
   "source": [
    "import re\n",
    "\n",
    "import colorlover as cl\n",
    "from IPython.display import HTML\n",
    "import numpy as np\n",
    "\n",
    "num_original = 4\n",
    "num_interpolated = 10\n",
    "colors = cl.scales[str(num_original).strip()]['qual']['Set1']\n",
    "HTML(cl.to_html( colors ))"
   ]
  },
  {
   "cell_type": "markdown",
   "metadata": {
    "deletable": true,
    "editable": true
   },
   "source": [
    "## Parsing"
   ]
  },
  {
   "cell_type": "code",
   "execution_count": 2,
   "metadata": {
    "collapsed": false,
    "deletable": true,
    "editable": true
   },
   "outputs": [
    {
     "data": {
      "text/plain": [
       "array([[ 228.,   26.,   28.],\n",
       "       [  55.,  126.,  184.],\n",
       "       [  77.,  175.,   74.],\n",
       "       [ 152.,   78.,  163.]])"
      ]
     },
     "execution_count": 2,
     "metadata": {},
     "output_type": "execute_result"
    }
   ],
   "source": [
    "colors_list = [ re.search('rgb\\(([0-9]+),([0-9]+),([0-9]+)\\)', c).groups() for c in colors ]\n",
    "colors_array = np.asarray([ [ float(p) for p in c ] for c in colors_list ])\n",
    "# DEBUG : forces sRGB correspondence on my hardware\n",
    "# colors = np.asarray([ [172, 205, 229], [59, 117, 184], [181, 225, 128] ], dtype='float') \n",
    "colors_array\n"
   ]
  },
  {
   "cell_type": "markdown",
   "metadata": {
    "deletable": true,
    "editable": true
   },
   "source": [
    "## Conversion from RGB (assumed sRGB) to XYZ\n",
    "[The formulas copied from Wikipedia article on sRGB.](https://en.wikipedia.org/wiki/SRGB#The_reverse_transformation)"
   ]
  },
  {
   "cell_type": "code",
   "execution_count": 3,
   "metadata": {
    "collapsed": false,
    "deletable": true,
    "editable": true
   },
   "outputs": [
    {
     "data": {
      "text/plain": [
       "array([[ 0.32573904,  0.1731661 ,  0.02724212],\n",
       "       [ 0.17688132,  0.19194626,  0.48120069],\n",
       "       [ 0.19626571,  0.32732137,  0.11762073],\n",
       "       [ 0.22284143,  0.14768522,  0.36326437]])"
      ]
     },
     "execution_count": 3,
     "metadata": {},
     "output_type": "execute_result"
    }
   ],
   "source": [
    "Scale = 255.0\n",
    "srgb = colors_array/Scale\n",
    "srgb_thres=0.04045\n",
    "srgb_linear = np.empty(srgb.shape)\n",
    "srgb_linear[srgb<=srgb_thres] = (srgb/12.92)[srgb<=srgb_thres]\n",
    "srgb_linear[srgb>srgb_thres] = np.power(((srgb+0.055)/1.055),2.4)[srgb>srgb_thres]\n",
    "srgb2xyz = np.asarray([ [ 0.4124, 0.3576, 0.1805 ],\n",
    "                        [ 0.2126, 0.7152, 0.0722 ],\n",
    "                        [ 0.0193, 0.1192, 0.9505 ] ])\n",
    "# xyz = srgb2xyz.dot(srgb_linear[i])\n",
    "xyz = srgb_linear.dot(srgb2xyz.T)\n",
    "xyz"
   ]
  },
  {
   "cell_type": "markdown",
   "metadata": {
    "deletable": true,
    "editable": true
   },
   "source": [
    "## Conversion from XYZ to L\\*a\\*b\\*\n",
    "The formulas copied from [Wikipedia article on L\\*a\\*b\\*](https://en.wikipedia.org/wiki/Lab_color_space#Forward_transformation) and [Bruce Lind Bloom's page](www.brucelindbloom.com/Math.html) on color conversion."
   ]
  },
  {
   "cell_type": "code",
   "execution_count": 4,
   "metadata": {
    "collapsed": false,
    "deletable": true,
    "editable": true
   },
   "outputs": [
    {
     "data": {
      "text/plain": [
       "array([[ 48.65651299,  71.21070676,  52.98109021],\n",
       "       [ 50.91413545,  -2.95910047, -36.97247291],\n",
       "       [ 63.94342979, -49.05118575,  42.58212343],\n",
       "       [ 45.31550883,  44.02012702, -32.9967354 ]])"
      ]
     },
     "execution_count": 4,
     "metadata": {},
     "output_type": "execute_result"
    }
   ],
   "source": [
    "Lab_thresh = 216.0/24389.0\n",
    "Lab_kappa  = 24389.0/27.0\n",
    "def xyz2lab(t):\n",
    "    t2 = np.empty(t.shape)\n",
    "    cond = t<=Lab_thresh\n",
    "    t2[cond] = (Lab_kappa*t+16.0)[cond]\n",
    "    t2[np.logical_not(cond)] = np.power(t,(1.0/3.0))[np.logical_not(cond)]\n",
    "    return t2\n",
    "\n",
    "WhiteD65 = np.asarray([ 0.95047, 1.00000, 1.08883 ])\n",
    "xyz_ratio = xyz/WhiteD65\n",
    "\n",
    "pre_lab = xyz2lab(xyz_ratio)\n",
    "ell = 116.0*pre_lab[:,1] - 16.0\n",
    "a   = 500.0*(pre_lab[:,0]-pre_lab[:,1])\n",
    "b   = 200.0*(pre_lab[:,1]-pre_lab[:,2])\n",
    "lab = np.asarray([ell, a, b]).T\n",
    "lab"
   ]
  },
  {
   "cell_type": "markdown",
   "metadata": {
    "deletable": true,
    "editable": true
   },
   "source": [
    "# Interpolate colors in the perceptually uniform L\\*a\\*b\\* space"
   ]
  },
  {
   "cell_type": "code",
   "execution_count": 5,
   "metadata": {
    "collapsed": false,
    "deletable": true,
    "editable": true
   },
   "outputs": [
    {
     "data": {
      "text/plain": [
       "array([[ 48.65651299,  71.21070676,  52.98109021],\n",
       "       [ 49.40905381,  46.48743768,  22.99656917],\n",
       "       [ 50.16159463,  21.76416861,  -6.98795187],\n",
       "       [ 50.91413545,  -2.95910047, -36.97247291],\n",
       "       [ 55.25723356, -18.3231289 , -10.45427413],\n",
       "       [ 59.60033168, -33.68715732,  16.06392465],\n",
       "       [ 63.94342979, -49.05118575,  42.58212343],\n",
       "       [ 57.7341228 , -18.02741483,  17.38917049],\n",
       "       [ 51.52481582,  12.99635609,  -7.80378246],\n",
       "       [ 45.31550883,  44.02012702, -32.9967354 ]])"
      ]
     },
     "execution_count": 5,
     "metadata": {},
     "output_type": "execute_result"
    }
   ],
   "source": [
    "originals = np.arange(ell.shape[0])\n",
    "interpolated = np.linspace(originals[0], originals[-1], num=num_interpolated)\n",
    "ell_interp = np.interp(interpolated, originals, ell) \n",
    "a_interp = np.interp(interpolated, originals, a) \n",
    "b_interp = np.interp(interpolated, originals, b) \n",
    "\n",
    "# DEBUG: disables interpolation\n",
    "# ell_interp = ell\n",
    "# a_interp = a\n",
    "# b_interp = b\n",
    "\n",
    "originals\n",
    "interpolated\n",
    "np.asarray([ell_interp, a_interp, b_interp]).T\n"
   ]
  },
  {
   "cell_type": "markdown",
   "metadata": {
    "deletable": true,
    "editable": true
   },
   "source": [
    "## Conversion from L\\*a\\*b\\* to XYZ\n",
    "[The formulas copied from Wikipedia article on L\\*a\\*b\\*.](https://en.wikipedia.org/wiki/Lab_color_space#Reverse_transformation) and [Bruce Lind Bloom's page](www.brucelindbloom.com/Math.html) on color conversion."
   ]
  },
  {
   "cell_type": "code",
   "execution_count": 6,
   "metadata": {
    "collapsed": false,
    "deletable": true,
    "editable": true
   },
   "outputs": [
    {
     "data": {
      "text/plain": [
       "array([[ 0.32573904,  0.1731661 ,  0.02724212],\n",
       "       [ 0.26935755,  0.17928322,  0.0984861 ],\n",
       "       [ 0.21988902,  0.18554272,  0.24147296],\n",
       "       [ 0.17688132,  0.19194626,  0.48120069],\n",
       "       [ 0.18319378,  0.23179972,  0.32245837],\n",
       "       [ 0.18965467,  0.27681979,  0.20314101],\n",
       "       [ 0.19626571,  0.32732137,  0.11762073],\n",
       "       [ 0.20487495,  0.25682162,  0.17986583],\n",
       "       [ 0.21373235,  0.19724966,  0.26091937],\n",
       "       [ 0.22284143,  0.14768522,  0.36326437]])"
      ]
     },
     "execution_count": 6,
     "metadata": {},
     "output_type": "execute_result"
    }
   ],
   "source": [
    "def lab2xyz(t):\n",
    "    t2 = np.empty(t.shape)\n",
    "    cond =t<=Lab_thresh\n",
    "    t2[cond] = ((t-16.0)/Lab_kappa)[cond]\n",
    "    t2[np.logical_not(cond)]  = np.power(t,3.0)[np.logical_not(cond)]\n",
    "    return t2\n",
    "\n",
    "ell_interp_scaled = (ell_interp+16.0)/116.0\n",
    "a_interp_scaled = a_interp/500.0\n",
    "b_interp_scaled = b_interp/200.0\n",
    "pre_x_interp = lab2xyz(ell_interp_scaled+a_interp_scaled)\n",
    "pre_y_interp = lab2xyz(ell_interp_scaled)\n",
    "pre_z_interp = lab2xyz(ell_interp_scaled-b_interp_scaled)\n",
    "pre_xyz_interp = np.asarray([pre_x_interp, pre_y_interp, pre_z_interp]).T\n",
    "xyz_interp = pre_xyz_interp*WhiteD65\n",
    "xyz_interp #, xyz\n"
   ]
  },
  {
   "cell_type": "markdown",
   "metadata": {
    "deletable": true,
    "editable": true
   },
   "source": [
    "## Conversion from XYZ to RGB (assumed sRGB)\n",
    "[The formulas copied from Wikipedia article on sRGB.](https://en.wikipedia.org/wiki/SRGB#The_forward_transformation_.28CIE_XYZ_to_sRGB.29)"
   ]
  },
  {
   "cell_type": "code",
   "execution_count": 7,
   "metadata": {
    "collapsed": false,
    "deletable": true,
    "editable": true
   },
   "outputs": [
    {
     "data": {
      "text/plain": [
       "array([[ 228.,   26.,   28.],\n",
       "       [ 195.,   80.,   81.],\n",
       "       [ 150.,  106.,  132.],\n",
       "       [  55.,  126.,  184.],\n",
       "       [  78.,  142.,  150.],\n",
       "       [  84.,  158.,  114.],\n",
       "       [  77.,  175.,   74.],\n",
       "       [ 117.,  147.,  108.],\n",
       "       [ 139.,  116.,  136.],\n",
       "       [ 152.,   78.,  163.]])"
      ]
     },
     "execution_count": 7,
     "metadata": {},
     "output_type": "execute_result"
    }
   ],
   "source": [
    "xyz2srgb = np.asarray([ [  3.2406, -1.5372, -0.4986 ],\n",
    "                        [ -0.9689,  1.8758,  0.0415 ],\n",
    "                        [  0.0557, -0.2040,  1.0570 ] ])\n",
    "# srgb_linear_interp = xyz2srgb.dot(xyz_interp[i])\n",
    "srgb_linear_interp = xyz_interp.dot(xyz2srgb.T)\n",
    "srgb_interp = np.empty(srgb_linear_interp.shape)\n",
    "\n",
    "srgb_interp[srgb_linear_interp<=0.0031308] = (12.92*srgb_linear_interp)[srgb_linear_interp<=0.0031308]\n",
    "srgb_interp[srgb_linear_interp>0.0031308] = ((1.055)*np.power(srgb_linear_interp,(1.0/2.4)) - 0.055)[srgb_linear_interp>0.0031308]\n",
    "srgb_interp[srgb_interp<0.0] = 0.0\n",
    "srgb_interp[srgb_interp>1.0] = 1.0\n",
    "srgb_device_interp = np.round(srgb_interp*Scale)\n",
    "# print(srgb_linear_interp, srgb_interp, srgb_device_interp, colors, sep='\\n\\n')\n",
    "srgb_device_interp"
   ]
  },
  {
   "cell_type": "markdown",
   "metadata": {
    "deletable": true,
    "editable": true
   },
   "source": [
    "## Formatting the output"
   ]
  },
  {
   "cell_type": "code",
   "execution_count": 8,
   "metadata": {
    "collapsed": false,
    "deletable": true,
    "editable": true
   },
   "outputs": [
    {
     "name": "stdout",
     "output_type": "stream",
     "text": [
      "['rgb(228,26,28)', 'rgb(55,126,184)', 'rgb(77,175,74)', 'rgb(152,78,163)']\n"
     ]
    },
    {
     "data": {
      "text/html": [
       "<div style=\"background-color:rgb(228,26,28);height:20px;width:20px;display:inline-block;\"></div><div style=\"background-color:rgb(55,126,184);height:20px;width:20px;display:inline-block;\"></div><div style=\"background-color:rgb(77,175,74);height:20px;width:20px;display:inline-block;\"></div><div style=\"background-color:rgb(152,78,163);height:20px;width:20px;display:inline-block;\"></div>"
      ],
      "text/plain": [
       "<IPython.core.display.HTML object>"
      ]
     },
     "execution_count": 8,
     "metadata": {},
     "output_type": "execute_result"
    }
   ],
   "source": [
    "# This --- finally --- is the desired output\n",
    "colors_interpolated = [ 'rgb(%d,%d,%d)' % tuple(c) for c in srgb_device_interp ]\n",
    "\n",
    "after_hsl_and_back = cl.to_rgb(cl.to_hsl(colors_interpolated))\n",
    "print(colors)\n",
    "HTML(cl.to_html( colors ))"
   ]
  },
  {
   "cell_type": "code",
   "execution_count": 9,
   "metadata": {
    "collapsed": false,
    "deletable": true,
    "editable": true
   },
   "outputs": [
    {
     "name": "stdout",
     "output_type": "stream",
     "text": [
      "['rgb(228,26,28)', 'rgb(195,80,81)', 'rgb(150,106,132)', 'rgb(55,126,184)', 'rgb(78,142,150)', 'rgb(84,158,114)', 'rgb(77,175,74)', 'rgb(117,147,108)', 'rgb(139,116,136)', 'rgb(152,78,163)']\n"
     ]
    },
    {
     "data": {
      "text/html": [
       "<div style=\"background-color:rgb(228,26,28);height:20px;width:20px;display:inline-block;\"></div><div style=\"background-color:rgb(195,80,81);height:20px;width:20px;display:inline-block;\"></div><div style=\"background-color:rgb(150,106,132);height:20px;width:20px;display:inline-block;\"></div><div style=\"background-color:rgb(55,126,184);height:20px;width:20px;display:inline-block;\"></div><div style=\"background-color:rgb(78,142,150);height:20px;width:20px;display:inline-block;\"></div><div style=\"background-color:rgb(84,158,114);height:20px;width:20px;display:inline-block;\"></div><div style=\"background-color:rgb(77,175,74);height:20px;width:20px;display:inline-block;\"></div><div style=\"background-color:rgb(117,147,108);height:20px;width:20px;display:inline-block;\"></div><div style=\"background-color:rgb(139,116,136);height:20px;width:20px;display:inline-block;\"></div><div style=\"background-color:rgb(152,78,163);height:20px;width:20px;display:inline-block;\"></div>"
      ],
      "text/plain": [
       "<IPython.core.display.HTML object>"
      ]
     },
     "execution_count": 9,
     "metadata": {},
     "output_type": "execute_result"
    }
   ],
   "source": [
    "print(colors_interpolated)\n",
    "HTML(cl.to_html( colors_interpolated ))"
   ]
  },
  {
   "cell_type": "code",
   "execution_count": 10,
   "metadata": {
    "collapsed": false,
    "deletable": true,
    "editable": true
   },
   "outputs": [
    {
     "name": "stdout",
     "output_type": "stream",
     "text": [
      "['rgb(230, 25, 29)', 'rgb(195, 80, 82)', 'rgb(149, 106, 131)', 'rgb(55, 126, 185)', 'rgb(78, 143, 151)', 'rgb(83, 157, 112)', 'rgb(77, 176, 74)', 'rgb(117, 147, 108)', 'rgb(139, 116, 136)', 'rgb(151, 78, 162)']\n"
     ]
    },
    {
     "data": {
      "text/html": [
       "<div style=\"background-color:rgb(230, 25, 29);height:20px;width:20px;display:inline-block;\"></div><div style=\"background-color:rgb(195, 80, 82);height:20px;width:20px;display:inline-block;\"></div><div style=\"background-color:rgb(149, 106, 131);height:20px;width:20px;display:inline-block;\"></div><div style=\"background-color:rgb(55, 126, 185);height:20px;width:20px;display:inline-block;\"></div><div style=\"background-color:rgb(78, 143, 151);height:20px;width:20px;display:inline-block;\"></div><div style=\"background-color:rgb(83, 157, 112);height:20px;width:20px;display:inline-block;\"></div><div style=\"background-color:rgb(77, 176, 74);height:20px;width:20px;display:inline-block;\"></div><div style=\"background-color:rgb(117, 147, 108);height:20px;width:20px;display:inline-block;\"></div><div style=\"background-color:rgb(139, 116, 136);height:20px;width:20px;display:inline-block;\"></div><div style=\"background-color:rgb(151, 78, 162);height:20px;width:20px;display:inline-block;\"></div>"
      ],
      "text/plain": [
       "<IPython.core.display.HTML object>"
      ]
     },
     "execution_count": 10,
     "metadata": {},
     "output_type": "execute_result"
    }
   ],
   "source": [
    "print(after_hsl_and_back)\n",
    "HTML(cl.to_html(after_hsl_and_back))"
   ]
  }
 ],
 "metadata": {
  "kernelspec": {
   "display_name": "Python 3",
   "language": "python",
   "name": "python3"
  },
  "language_info": {
   "codemirror_mode": {
    "name": "ipython",
    "version": 3
   },
   "file_extension": ".py",
   "mimetype": "text/x-python",
   "name": "python",
   "nbconvert_exporter": "python",
   "pygments_lexer": "ipython3",
   "version": "3.6.1"
  }
 },
 "nbformat": 4,
 "nbformat_minor": 2
}
